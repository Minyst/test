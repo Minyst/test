{
 "cells": [
  {
   "cell_type": "code",
   "execution_count": 38,
   "id": "2b9a066b-4205-4ff6-8619-8007c80328b4",
   "metadata": {},
   "outputs": [],
   "source": [
    "# !git clone https://github.com/llm-fine-tuning/trl.git"
   ]
  },
  {
   "cell_type": "code",
   "execution_count": 39,
   "id": "35b4a7fb-284c-4c9b-8e0c-badac579195d",
   "metadata": {},
   "outputs": [
    {
     "data": {
      "text/plain": [
       "'/workspace/test'"
      ]
     },
     "execution_count": 39,
     "metadata": {},
     "output_type": "execute_result"
    }
   ],
   "source": [
    "# 현재 경로\n",
    "%pwd"
   ]
  },
  {
   "cell_type": "code",
   "execution_count": 40,
   "id": "a4800a4d-c186-43d7-9cc2-0fb0a35f80ce",
   "metadata": {},
   "outputs": [
    {
     "name": "stdout",
     "output_type": "stream",
     "text": [
      "total 24122\n",
      "drwxrwxrwx 4 root root  2001800 Mar 29 05:56  \u001b[0m\u001b[34;42m.\u001b[0m/\n",
      "drwxrwxrwx 4 root root  2001800 Mar 29 05:55  \u001b[34;42m..\u001b[0m/\n",
      "drwxrwxrwx 8 root root  1006928 Mar 29 05:37  \u001b[34;42m.git\u001b[0m/\n",
      "drwxrwxrwx 2 root root  1012803 Mar 29 05:52  \u001b[34;42m.ipynb_checkpoints\u001b[0m/\n",
      "-rw-rw-rw- 1 root root    21952 Mar 29 05:56 '1. tuning.ipynb'\n",
      "-rw-rw-rw- 1 root root    11166 Mar 29 05:56 '2. test and merge.ipynb'\n",
      "-rw-rw-rw- 1 root root    83855 Mar 29 05:56 '3. vllm.ipynb'\n",
      "-rw-rw-rw- 1 root root 18541056 Mar 29 05:55  chromedriver.exe\n",
      "-rw-rw-rw- 1 root root      788 Mar 29 05:37  ds_config.json\n",
      "-rw-rw-rw- 1 root root     1351 Mar 29 05:37  merge.py\n",
      "-rw-rw-rw- 1 root root    11277 Mar 29 05:55  rag_train.py\n",
      "-rw-rw-rw- 1 root root     2856 Mar 29 05:56  train.log\n",
      "-rwxrwxrwx 1 root root      145 Mar 29 05:37  \u001b[01;32mtrain.sh\u001b[0m*\n"
     ]
    }
   ],
   "source": [
    "# 현재 경로에 있는 파일이나 디렉토리\n",
    "%ls -al"
   ]
  },
  {
   "cell_type": "code",
   "execution_count": 41,
   "id": "f9dbf8a8-6c3f-4e8e-9446-be0ab5ccab82",
   "metadata": {},
   "outputs": [
    {
     "name": "stdout",
     "output_type": "stream",
     "text": [
      "/workspace/test\n"
     ]
    },
    {
     "name": "stderr",
     "output_type": "stream",
     "text": [
      "/usr/local/lib/python3.10/dist-packages/IPython/core/magics/osm.py:417: UserWarning: using dhist requires you to install the `pickleshare` library.\n",
      "  self.shell.db['dhist'] = compress_dhist(dhist)[-100:]\n"
     ]
    }
   ],
   "source": [
    "# trl 디렉토리로 이동\n",
    "%cd /workspace/test"
   ]
  },
  {
   "cell_type": "code",
   "execution_count": 42,
   "id": "82937f41-4c2a-4097-a625-e499683293a3",
   "metadata": {},
   "outputs": [
    {
     "data": {
      "text/plain": [
       "'/workspace/test'"
      ]
     },
     "execution_count": 42,
     "metadata": {},
     "output_type": "execute_result"
    }
   ],
   "source": [
    "# 다시 확인하는 현재 경로\n",
    "%pwd"
   ]
  },
  {
   "cell_type": "code",
   "execution_count": 43,
   "id": "244d0619-4ea5-4872-a2aa-6ca2a3c4b3e6",
   "metadata": {},
   "outputs": [
    {
     "name": "stdout",
     "output_type": "stream",
     "text": [
      "total 24122\n",
      "drwxrwxrwx 4 root root  2001800 Mar 29 05:56  \u001b[0m\u001b[34;42m.\u001b[0m/\n",
      "drwxrwxrwx 4 root root  2001800 Mar 29 05:55  \u001b[34;42m..\u001b[0m/\n",
      "drwxrwxrwx 8 root root  1006928 Mar 29 05:37  \u001b[34;42m.git\u001b[0m/\n",
      "drwxrwxrwx 2 root root  1012803 Mar 29 05:52  \u001b[34;42m.ipynb_checkpoints\u001b[0m/\n",
      "-rw-rw-rw- 1 root root    21952 Mar 29 05:56 '1. tuning.ipynb'\n",
      "-rw-rw-rw- 1 root root    11166 Mar 29 05:56 '2. test and merge.ipynb'\n",
      "-rw-rw-rw- 1 root root    83855 Mar 29 05:56 '3. vllm.ipynb'\n",
      "-rw-rw-rw- 1 root root 18541056 Mar 29 05:55  chromedriver.exe\n",
      "-rw-rw-rw- 1 root root      788 Mar 29 05:37  ds_config.json\n",
      "-rw-rw-rw- 1 root root     1351 Mar 29 05:37  merge.py\n",
      "-rw-rw-rw- 1 root root    11277 Mar 29 05:55  rag_train.py\n",
      "-rw-rw-rw- 1 root root     2856 Mar 29 05:56  train.log\n",
      "-rwxrwxrwx 1 root root      145 Mar 29 05:37  \u001b[01;32mtrain.sh\u001b[0m*\n"
     ]
    }
   ],
   "source": [
    "# 현재 경로에 있는 파일이나 디렉토리\n",
    "%ls -al"
   ]
  },
  {
   "cell_type": "code",
   "execution_count": 44,
   "id": "3da07c7b-8f83-405d-b431-2efc4d7578be",
   "metadata": {},
   "outputs": [],
   "source": [
    "# %cd rag_multi_gpu_fine_tuning"
   ]
  },
  {
   "cell_type": "code",
   "execution_count": 45,
   "id": "d186fcbb-f601-467e-ac51-725b2f1ac267",
   "metadata": {},
   "outputs": [],
   "source": [
    "# 다시 확인하는 현재 경로\n",
    "# %pwd"
   ]
  },
  {
   "cell_type": "code",
   "execution_count": 46,
   "id": "427edaf6-0f86-481c-879b-789ef47ebc37",
   "metadata": {},
   "outputs": [
    {
     "name": "stdout",
     "output_type": "stream",
     "text": [
      "Requirement already satisfied: torch==2.4.0 in /usr/local/lib/python3.10/dist-packages (2.4.0)\n",
      "Requirement already satisfied: transformers==4.45.1 in /usr/local/lib/python3.10/dist-packages (4.45.1)\n",
      "Requirement already satisfied: datasets==3.0.1 in /usr/local/lib/python3.10/dist-packages (3.0.1)\n",
      "Requirement already satisfied: accelerate==0.34.2 in /usr/local/lib/python3.10/dist-packages (0.34.2)\n",
      "Requirement already satisfied: trl==0.11.1 in /usr/local/lib/python3.10/dist-packages (0.11.1)\n",
      "Requirement already satisfied: peft==0.13.0 in /usr/local/lib/python3.10/dist-packages (0.13.0)\n",
      "Requirement already satisfied: deepspeed==0.15.4 in /usr/local/lib/python3.10/dist-packages (0.15.4)\n",
      "Requirement already satisfied: filelock in /usr/local/lib/python3.10/dist-packages (from torch==2.4.0) (3.9.0)\n",
      "Requirement already satisfied: typing-extensions>=4.8.0 in /usr/local/lib/python3.10/dist-packages (from torch==2.4.0) (4.13.0)\n",
      "Requirement already satisfied: sympy in /usr/local/lib/python3.10/dist-packages (from torch==2.4.0) (1.12)\n",
      "Requirement already satisfied: networkx in /usr/local/lib/python3.10/dist-packages (from torch==2.4.0) (3.0)\n",
      "Requirement already satisfied: jinja2 in /usr/local/lib/python3.10/dist-packages (from torch==2.4.0) (3.1.2)\n",
      "Requirement already satisfied: fsspec in /usr/local/lib/python3.10/dist-packages (from torch==2.4.0) (2024.6.1)\n",
      "Requirement already satisfied: nvidia-cuda-nvrtc-cu12==12.1.105 in /usr/local/lib/python3.10/dist-packages (from torch==2.4.0) (12.1.105)\n",
      "Requirement already satisfied: nvidia-cuda-runtime-cu12==12.1.105 in /usr/local/lib/python3.10/dist-packages (from torch==2.4.0) (12.1.105)\n",
      "Requirement already satisfied: nvidia-cuda-cupti-cu12==12.1.105 in /usr/local/lib/python3.10/dist-packages (from torch==2.4.0) (12.1.105)\n",
      "Requirement already satisfied: nvidia-cudnn-cu12==9.1.0.70 in /usr/local/lib/python3.10/dist-packages (from torch==2.4.0) (9.1.0.70)\n",
      "Requirement already satisfied: nvidia-cublas-cu12==12.1.3.1 in /usr/local/lib/python3.10/dist-packages (from torch==2.4.0) (12.1.3.1)\n",
      "Requirement already satisfied: nvidia-cufft-cu12==11.0.2.54 in /usr/local/lib/python3.10/dist-packages (from torch==2.4.0) (11.0.2.54)\n",
      "Requirement already satisfied: nvidia-curand-cu12==10.3.2.106 in /usr/local/lib/python3.10/dist-packages (from torch==2.4.0) (10.3.2.106)\n",
      "Requirement already satisfied: nvidia-cusolver-cu12==11.4.5.107 in /usr/local/lib/python3.10/dist-packages (from torch==2.4.0) (11.4.5.107)\n",
      "Requirement already satisfied: nvidia-cusparse-cu12==12.1.0.106 in /usr/local/lib/python3.10/dist-packages (from torch==2.4.0) (12.1.0.106)\n",
      "Requirement already satisfied: nvidia-nccl-cu12==2.20.5 in /usr/local/lib/python3.10/dist-packages (from torch==2.4.0) (2.20.5)\n",
      "Requirement already satisfied: nvidia-nvtx-cu12==12.1.105 in /usr/local/lib/python3.10/dist-packages (from torch==2.4.0) (12.1.105)\n",
      "Requirement already satisfied: triton==3.0.0 in /usr/local/lib/python3.10/dist-packages (from torch==2.4.0) (3.0.0)\n",
      "Requirement already satisfied: huggingface-hub<1.0,>=0.23.2 in /usr/local/lib/python3.10/dist-packages (from transformers==4.45.1) (0.29.3)\n",
      "Requirement already satisfied: numpy>=1.17 in /usr/local/lib/python3.10/dist-packages (from transformers==4.45.1) (1.24.1)\n",
      "Requirement already satisfied: packaging>=20.0 in /usr/local/lib/python3.10/dist-packages (from transformers==4.45.1) (23.2)\n",
      "Requirement already satisfied: pyyaml>=5.1 in /usr/local/lib/python3.10/dist-packages (from transformers==4.45.1) (6.0.1)\n",
      "Requirement already satisfied: regex!=2019.12.17 in /usr/local/lib/python3.10/dist-packages (from transformers==4.45.1) (2024.11.6)\n",
      "Requirement already satisfied: requests in /usr/local/lib/python3.10/dist-packages (from transformers==4.45.1) (2.32.3)\n",
      "Requirement already satisfied: safetensors>=0.4.1 in /usr/local/lib/python3.10/dist-packages (from transformers==4.45.1) (0.5.3)\n",
      "Requirement already satisfied: tokenizers<0.21,>=0.20 in /usr/local/lib/python3.10/dist-packages (from transformers==4.45.1) (0.20.3)\n",
      "Requirement already satisfied: tqdm>=4.27 in /usr/local/lib/python3.10/dist-packages (from transformers==4.45.1) (4.67.1)\n",
      "Requirement already satisfied: pyarrow>=15.0.0 in /usr/local/lib/python3.10/dist-packages (from datasets==3.0.1) (19.0.1)\n",
      "Requirement already satisfied: dill<0.3.9,>=0.3.0 in /usr/local/lib/python3.10/dist-packages (from datasets==3.0.1) (0.3.8)\n",
      "Requirement already satisfied: pandas in /usr/local/lib/python3.10/dist-packages (from datasets==3.0.1) (2.2.3)\n",
      "Requirement already satisfied: xxhash in /usr/local/lib/python3.10/dist-packages (from datasets==3.0.1) (3.5.0)\n",
      "Requirement already satisfied: multiprocess in /usr/local/lib/python3.10/dist-packages (from datasets==3.0.1) (0.70.16)\n",
      "Requirement already satisfied: aiohttp in /usr/local/lib/python3.10/dist-packages (from datasets==3.0.1) (3.11.14)\n",
      "Requirement already satisfied: psutil in /usr/local/lib/python3.10/dist-packages (from accelerate==0.34.2) (5.9.6)\n",
      "Requirement already satisfied: tyro>=0.5.11 in /usr/local/lib/python3.10/dist-packages (from trl==0.11.1) (0.9.18)\n",
      "Requirement already satisfied: hjson in /usr/local/lib/python3.10/dist-packages (from deepspeed==0.15.4) (3.1.0)\n",
      "Requirement already satisfied: msgpack in /usr/local/lib/python3.10/dist-packages (from deepspeed==0.15.4) (1.1.0)\n",
      "Requirement already satisfied: ninja in /usr/local/lib/python3.10/dist-packages (from deepspeed==0.15.4) (1.11.1.4)\n",
      "Requirement already satisfied: py-cpuinfo in /usr/local/lib/python3.10/dist-packages (from deepspeed==0.15.4) (9.0.0)\n",
      "Requirement already satisfied: pydantic>=2.0.0 in /usr/local/lib/python3.10/dist-packages (from deepspeed==0.15.4) (2.11.1)\n",
      "Requirement already satisfied: nvidia-ml-py in /usr/local/lib/python3.10/dist-packages (from deepspeed==0.15.4) (12.570.86)\n",
      "Requirement already satisfied: nvidia-nvjitlink-cu12 in /usr/local/lib/python3.10/dist-packages (from nvidia-cusolver-cu12==11.4.5.107->torch==2.4.0) (12.8.93)\n",
      "Requirement already satisfied: aiohappyeyeballs>=2.3.0 in /usr/local/lib/python3.10/dist-packages (from aiohttp->datasets==3.0.1) (2.6.1)\n",
      "Requirement already satisfied: aiosignal>=1.1.2 in /usr/local/lib/python3.10/dist-packages (from aiohttp->datasets==3.0.1) (1.3.2)\n",
      "Requirement already satisfied: async-timeout<6.0,>=4.0 in /usr/local/lib/python3.10/dist-packages (from aiohttp->datasets==3.0.1) (5.0.1)\n",
      "Requirement already satisfied: attrs>=17.3.0 in /usr/local/lib/python3.10/dist-packages (from aiohttp->datasets==3.0.1) (23.1.0)\n",
      "Requirement already satisfied: frozenlist>=1.1.1 in /usr/local/lib/python3.10/dist-packages (from aiohttp->datasets==3.0.1) (1.5.0)\n",
      "Requirement already satisfied: multidict<7.0,>=4.5 in /usr/local/lib/python3.10/dist-packages (from aiohttp->datasets==3.0.1) (6.2.0)\n",
      "Requirement already satisfied: propcache>=0.2.0 in /usr/local/lib/python3.10/dist-packages (from aiohttp->datasets==3.0.1) (0.3.1)\n",
      "Requirement already satisfied: yarl<2.0,>=1.17.0 in /usr/local/lib/python3.10/dist-packages (from aiohttp->datasets==3.0.1) (1.18.3)\n",
      "Requirement already satisfied: annotated-types>=0.6.0 in /usr/local/lib/python3.10/dist-packages (from pydantic>=2.0.0->deepspeed==0.15.4) (0.7.0)\n",
      "Requirement already satisfied: pydantic-core==2.33.0 in /usr/local/lib/python3.10/dist-packages (from pydantic>=2.0.0->deepspeed==0.15.4) (2.33.0)\n",
      "Requirement already satisfied: typing-inspection>=0.4.0 in /usr/local/lib/python3.10/dist-packages (from pydantic>=2.0.0->deepspeed==0.15.4) (0.4.0)\n",
      "Requirement already satisfied: charset-normalizer<4,>=2 in /usr/local/lib/python3.10/dist-packages (from requests->transformers==4.45.1) (2.1.1)\n",
      "Requirement already satisfied: idna<4,>=2.5 in /usr/local/lib/python3.10/dist-packages (from requests->transformers==4.45.1) (3.4)\n",
      "Requirement already satisfied: urllib3<3,>=1.21.1 in /usr/local/lib/python3.10/dist-packages (from requests->transformers==4.45.1) (1.26.13)\n",
      "Requirement already satisfied: certifi>=2017.4.17 in /usr/local/lib/python3.10/dist-packages (from requests->transformers==4.45.1) (2022.12.7)\n",
      "Requirement already satisfied: docstring-parser>=0.15 in /usr/local/lib/python3.10/dist-packages (from tyro>=0.5.11->trl==0.11.1) (0.16)\n",
      "Requirement already satisfied: rich>=11.1.0 in /usr/local/lib/python3.10/dist-packages (from tyro>=0.5.11->trl==0.11.1) (13.9.4)\n",
      "Requirement already satisfied: shtab>=1.5.6 in /usr/local/lib/python3.10/dist-packages (from tyro>=0.5.11->trl==0.11.1) (1.7.1)\n",
      "Requirement already satisfied: typeguard>=4.0.0 in /usr/local/lib/python3.10/dist-packages (from tyro>=0.5.11->trl==0.11.1) (4.4.2)\n",
      "Requirement already satisfied: MarkupSafe>=2.0 in /usr/local/lib/python3.10/dist-packages (from jinja2->torch==2.4.0) (2.1.2)\n",
      "Requirement already satisfied: python-dateutil>=2.8.2 in /usr/local/lib/python3.10/dist-packages (from pandas->datasets==3.0.1) (2.8.2)\n",
      "Requirement already satisfied: pytz>=2020.1 in /usr/local/lib/python3.10/dist-packages (from pandas->datasets==3.0.1) (2025.2)\n",
      "Requirement already satisfied: tzdata>=2022.7 in /usr/local/lib/python3.10/dist-packages (from pandas->datasets==3.0.1) (2025.2)\n",
      "Requirement already satisfied: mpmath>=0.19 in /usr/local/lib/python3.10/dist-packages (from sympy->torch==2.4.0) (1.3.0)\n",
      "Requirement already satisfied: six>=1.5 in /usr/lib/python3/dist-packages (from python-dateutil>=2.8.2->pandas->datasets==3.0.1) (1.16.0)\n",
      "Requirement already satisfied: markdown-it-py>=2.2.0 in /usr/local/lib/python3.10/dist-packages (from rich>=11.1.0->tyro>=0.5.11->trl==0.11.1) (3.0.0)\n",
      "Requirement already satisfied: pygments<3.0.0,>=2.13.0 in /usr/local/lib/python3.10/dist-packages (from rich>=11.1.0->tyro>=0.5.11->trl==0.11.1) (2.16.1)\n",
      "Requirement already satisfied: mdurl~=0.1 in /usr/local/lib/python3.10/dist-packages (from markdown-it-py>=2.2.0->rich>=11.1.0->tyro>=0.5.11->trl==0.11.1) (0.1.2)\n",
      "\u001b[33mWARNING: Running pip as the 'root' user can result in broken permissions and conflicting behaviour with the system package manager. It is recommended to use a virtual environment instead: https://pip.pypa.io/warnings/venv\u001b[0m\u001b[33m\n",
      "\u001b[0m\n",
      "\u001b[1m[\u001b[0m\u001b[34;49mnotice\u001b[0m\u001b[1;39;49m]\u001b[0m\u001b[39;49m A new release of pip is available: \u001b[0m\u001b[31;49m23.3.1\u001b[0m\u001b[39;49m -> \u001b[0m\u001b[32;49m25.0.1\u001b[0m\n",
      "\u001b[1m[\u001b[0m\u001b[34;49mnotice\u001b[0m\u001b[1;39;49m]\u001b[0m\u001b[39;49m To update, run: \u001b[0m\u001b[32;49mpython -m pip install --upgrade pip\u001b[0m\n"
     ]
    }
   ],
   "source": [
    "!pip install torch==2.4.0 transformers==4.45.1 datasets==3.0.1 accelerate==0.34.2 trl==0.11.1 peft==0.13.0 deepspeed==0.15.4"
   ]
  },
  {
   "cell_type": "code",
   "execution_count": 47,
   "id": "dd5fb984-c6c7-4745-a0f7-8e05eb31ad83",
   "metadata": {},
   "outputs": [
    {
     "name": "stdout",
     "output_type": "stream",
     "text": [
      "#!/bin/bash\n",
      "# train.sh\n",
      "# DeepSpeed로 2개의 GPU를 사용해 train.py 실행, 로그는 train.log로 저장\n",
      "deepspeed --num_gpus=2 rag_train.py"
     ]
    }
   ],
   "source": [
    "# 현재 경로에 있는 train.sh 파일 내용을 읽는다\n",
    "# gpu 몇 개를 쓸 것인지에 따라서 gpu 개수를 수정한다.\n",
    "# gpu 개수를 수정했다면 train.sh 파일을 다시 읽어보자\n",
    "!cat train.sh"
   ]
  },
  {
   "cell_type": "code",
   "execution_count": 48,
   "id": "5c2e8447-2f7b-4c79-864d-f8ae4c3cf19a",
   "metadata": {},
   "outputs": [],
   "source": [
    "# 실행권한을 부여하자\n",
    "!chmod +x train.sh"
   ]
  },
  {
   "cell_type": "code",
   "execution_count": 49,
   "id": "dac03494-e69e-4ade-bb0f-de469bc8adf7",
   "metadata": {},
   "outputs": [],
   "source": [
    "import subprocess\n",
    "\n",
    "# nohup을 사용해 train.sh 스크립트를 백그라운드에서 실행하고 로그를 train.log에 저장\n",
    "with open(\"train.log\", \"w\") as log_file:\n",
    "    subprocess.Popen([\"nohup\", \"./train.sh\"], stdout=log_file, stderr=subprocess.STDOUT)\n",
    "\n",
    "# 위 파이썬 코드는 터미널에서\n",
    "# !nohup ./train.sh > train.log 2>&1 &\n",
    "# 를 실행하는 것과 동일."
   ]
  },
  {
   "cell_type": "code",
   "execution_count": 50,
   "id": "9c15b261-0d1d-450e-8bd0-854de16cc4a4",
   "metadata": {},
   "outputs": [
    {
     "name": "stdout",
     "output_type": "stream",
     "text": [
      "root          78  0.6  0.0 638384 103948 ?       Sl   05:34   0:09 /usr/bin/python /usr/local/bin/jupyter-lab --allow-root --no-browser --port=8888 --ip=* --FileContentsManager.delete_to_trash=False --ServerApp.terminado_settings={\"shell_command\":[\"/bin/bash\"]} --ServerApp.token=286zie7s75l87fq4g2op --ServerApp.allow_origin=* --ServerApp.preferred_dir=/workspace\n",
      "root         637  0.0  0.0 748096 55308 ?        Ssl  05:37   0:00 /usr/bin/python -m ipykernel_launcher -f /root/.local/share/jupyter/runtime/kernel-e4f0ad18-fa2e-4104-8516-a627de340349.json\n",
      "root        1030  0.2  0.0 749516 55324 ?        Ssl  05:38   0:03 /usr/bin/python -m ipykernel_launcher -f /root/.local/share/jupyter/runtime/kernel-ceb5b8c7-39de-4184-926b-5410fd507c06.json\n",
      "root        2930  3.0  0.0 6848476 594968 ?      Ssl  05:51   0:10 /usr/bin/python -m ipykernel_launcher -f /root/.local/share/jupyter/runtime/kernel-88b3e89b-eb5c-4227-ba5f-1a1c4838ec5e.json\n",
      "root        3039  0.1  0.0 747992 55312 ?        Ssl  05:52   0:00 /usr/bin/python -m ipykernel_launcher -f /root/.local/share/jupyter/runtime/kernel-e53e0447-d05a-41c8-a94a-f7b8c9d8db84.json\n",
      "root        3204  0.0  0.0  13680  6148 ?        R    05:57   0:00 /usr/bin/python /usr/local/bin/deepspeed --num_gpus=2 rag_train.py\n",
      "root        3205  0.0  0.0   4736  2048 pts/1    Ss+  05:57   0:00 /bin/bash -c ps aux | grep python\n",
      "root        3207  0.0  0.0   3844     0 pts/1    S+   05:57   0:00 grep python\n"
     ]
    }
   ],
   "source": [
    "# 현재 실행중인 파이썬 프로세스를 확인\n",
    "!ps aux | grep python"
   ]
  },
  {
   "cell_type": "code",
   "execution_count": 51,
   "id": "a7eec69e-bcbc-4754-9b95-41f79577d6f2",
   "metadata": {},
   "outputs": [],
   "source": [
    "# 위의 코드를 보면 rag_train.py를 실행중인 프로세스가 두 개 존재한다. \n",
    "# !kill -9 8329 8330"
   ]
  },
  {
   "cell_type": "code",
   "execution_count": 52,
   "id": "2cb9337a-f597-43a2-bbd0-9582cec8f526",
   "metadata": {},
   "outputs": [
    {
     "name": "stdout",
     "output_type": "stream",
     "text": [
      "root          78  0.6  0.0 638384 103948 ?       Sl   05:34   0:09 /usr/bin/python /usr/local/bin/jupyter-lab --allow-root --no-browser --port=8888 --ip=* --FileContentsManager.delete_to_trash=False --ServerApp.terminado_settings={\"shell_command\":[\"/bin/bash\"]} --ServerApp.token=286zie7s75l87fq4g2op --ServerApp.allow_origin=* --ServerApp.preferred_dir=/workspace\n",
      "root         637  0.0  0.0 748096 55308 ?        Ssl  05:37   0:00 /usr/bin/python -m ipykernel_launcher -f /root/.local/share/jupyter/runtime/kernel-e4f0ad18-fa2e-4104-8516-a627de340349.json\n",
      "root        1030  0.2  0.0 749516 55324 ?        Ssl  05:38   0:03 /usr/bin/python -m ipykernel_launcher -f /root/.local/share/jupyter/runtime/kernel-ceb5b8c7-39de-4184-926b-5410fd507c06.json\n",
      "root        2930  3.0  0.0 6848476 594968 ?      Ssl  05:51   0:10 /usr/bin/python -m ipykernel_launcher -f /root/.local/share/jupyter/runtime/kernel-88b3e89b-eb5c-4227-ba5f-1a1c4838ec5e.json\n",
      "root        3039  0.1  0.0 747992 55312 ?        Ssl  05:52   0:00 /usr/bin/python -m ipykernel_launcher -f /root/.local/share/jupyter/runtime/kernel-e53e0447-d05a-41c8-a94a-f7b8c9d8db84.json\n",
      "root        3204  0.0  0.0 2905252 69868 ?       R    05:57   0:00 /usr/bin/python /usr/local/bin/deepspeed --num_gpus=2 rag_train.py\n",
      "root        3208  0.0  0.0   4736  2048 pts/1    Ss+  05:57   0:00 /bin/bash -c ps aux | grep python\n",
      "root        3210  0.0  0.0   3844     0 pts/1    S+   05:57   0:00 grep python\n"
     ]
    }
   ],
   "source": [
    "# 현재 실행중인 파이썬 프로세스를 확인.\n",
    "# train.log에서 학습이 끝난 것을 확인했다.\n",
    "!ps aux | grep python"
   ]
  },
  {
   "cell_type": "code",
   "execution_count": 53,
   "id": "56c3495c-bc27-4444-94fa-55993698cb49",
   "metadata": {},
   "outputs": [],
   "source": [
    "# 이제 rag_train.py라는 프로세스는 없다. 학습은 끝이난 것이다."
   ]
  }
 ],
 "metadata": {
  "kernelspec": {
   "display_name": "Python 3 (ipykernel)",
   "language": "python",
   "name": "python3"
  },
  "language_info": {
   "codemirror_mode": {
    "name": "ipython",
    "version": 3
   },
   "file_extension": ".py",
   "mimetype": "text/x-python",
   "name": "python",
   "nbconvert_exporter": "python",
   "pygments_lexer": "ipython3",
   "version": "3.10.12"
  }
 },
 "nbformat": 4,
 "nbformat_minor": 5
}
